{
 "cells": [
  {
   "cell_type": "code",
   "execution_count": null,
   "id": "e232da5d",
   "metadata": {},
   "outputs": [],
   "source": [
    "import pandas as pd\n",
    "import matplotlib.pyplot as plt\n",
    "\n",
    "df = pd.read_excel(\"transformed_dataset.xlsx\")\n",
    "\n",
    "# Bar chart\n",
    "df[\"Status\"].value_counts().plot(kind=\"bar\")\n",
    "plt.title(\"Mental Health Sentiment Frequency\")\n",
    "plt.show()\n"
   ]
  },
  {
   "cell_type": "code",
   "execution_count": null,
   "id": "f7b65e27",
   "metadata": {},
   "outputs": [],
   "source": []
  }
 ],
 "metadata": {
  "kernelspec": {
   "display_name": "myenv",
   "language": "python",
   "name": "python3"
  },
  "language_info": {
   "name": "python",
   "version": "3.10.11"
  }
 },
 "nbformat": 4,
 "nbformat_minor": 5
}
